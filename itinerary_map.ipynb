{
 "cells": [
  {
   "cell_type": "code",
   "execution_count": null,
   "metadata": {},
   "outputs": [],
   "source": [
    "import pandas as pd\n",
    "import requests\n",
    "import gmaps\n",
    "from config import g_key\n",
    "gmaps.configure(api_key=g_key)"
   ]
  },
  {
   "cell_type": "code",
   "execution_count": 1,
   "metadata": {},
   "outputs": [
    {
     "name": "stdout",
     "output_type": "stream",
     "text": [
      "# conda environments:\n",
      "#\n",
      "base                     C:\\Users\\rcman\\anaconda3\n",
      "PythonData            *  C:\\Users\\rcman\\anaconda3\\envs\\PythonData\n",
      "\n",
      "# packages in environment at C:\\Users\\rcman\\anaconda3\\envs\\PythonData:\n",
      "#\n",
      "# Name                    Version                   Build  Channel\n",
      "six                       1.15.0                     py_0  \n",
      "\n",
      "Note: you may need to restart the kernel to use updated packages.\n"
     ]
    }
   ],
   "source": [
    "conda env list && conda list x"
   ]
  },
  {
   "cell_type": "code",
   "execution_count": 1,
   "metadata": {},
   "outputs": [
    {
     "name": "stdout",
     "output_type": "stream",
     "text": [
      "# packages in environment at C:\\Users\\rcman\\anaconda3:\n",
      "#\n",
      "# Name                    Version                   Build  Channel\n",
      "_ipyw_jlab_nb_ext_conf    0.1.0                    py38_0  \n",
      "contextlib2               0.6.0.post1                py_0  \n",
      "defusedxml                0.6.0                      py_0  \n",
      "et_xmlfile                1.0.1                   py_1001  \n",
      "googletransx              2.4.2                    pypi_0    pypi\n",
      "lazy-object-proxy         1.4.3            py38he774522_0  \n",
      "libspatialindex           1.9.3                h33f27b4_0  \n",
      "libxml2                   2.9.10               hb89e7f3_3  \n",
      "libxslt                   1.1.34               he774522_0  \n",
      "lxml                      4.6.1            py38h1350720_0  \n",
      "networkx                  2.5                        py_0  \n",
      "numexpr                   2.7.1            py38h25d0782_0  \n",
      "openpyxl                  3.0.5                      py_0  \n",
      "pexpect                   4.8.0                    py38_0  \n",
      "regex                     2020.10.15       py38he774522_0  \n",
      "six                       1.15.0           py38haa95532_0  \n",
      "sphinx                    3.2.1                      py_0  \n",
      "sphinxcontrib             1.0                      py38_1  \n",
      "sphinxcontrib-applehelp   1.0.2                      py_0  \n",
      "sphinxcontrib-devhelp     1.0.2                      py_0  \n",
      "sphinxcontrib-htmlhelp    1.0.3                      py_0  \n",
      "sphinxcontrib-jsmath      1.0.1                      py_0  \n",
      "sphinxcontrib-qthelp      1.0.3                      py_0  \n",
      "sphinxcontrib-serializinghtml 1.1.4                      py_0  \n",
      "sphinxcontrib-websupport  1.2.4                      py_0  \n",
      "textblob                  0.15.3                   pypi_0    pypi\n",
      "typing_extensions         3.7.4.3                    py_0  \n",
      "widgetsnbextension        3.5.1                    py38_0  \n",
      "xlrd                      1.2.0                      py_0  \n",
      "xlsxwriter                1.3.7                      py_0  \n",
      "xlwings                   0.20.8                   py38_0  \n",
      "xlwt                      1.3.0                    py38_0  \n",
      "xmltodict                 0.12.0             pyhd3eb1b0_0  \n",
      "xz                        5.2.5                h62dcd97_0  \n",
      "\n",
      "Note: you may need to restart the kernel to use updated packages.\n"
     ]
    }
   ],
   "source": [
    "conda env list && conda list x"
   ]
  },
  {
   "cell_type": "code",
   "execution_count": null,
   "metadata": {},
   "outputs": [],
   "source": []
  },
  {
   "cell_type": "code",
   "execution_count": null,
   "metadata": {},
   "outputs": [],
   "source": [
    "vacation_df = pd.read_csv(\"Resources/vacation_data.csv\")\n",
    "vacation_df.head()"
   ]
  },
  {
   "cell_type": "code",
   "execution_count": null,
   "metadata": {},
   "outputs": [],
   "source": [
    "# Data template\n",
    "info_box_template = \"\"\"\n",
    "<dl>\n",
    "<dt>Hotel Name</dt><dd>{Hotel Name}</dd>\n",
    "<dt>City</dt><dd>{City}</dd>\n",
    "<dt>Country</dt><dd>{Country}</dd>\n",
    "<dt>Current Weather</dt><dd>{Current Description} and {Max Temp} °F</dd>\n",
    "</dl>\n",
    "\"\"\"\n",
    "# Get data and store in template\n",
    "hotel_info = [info_box_template.format(**row) for index, row in vacation_df.iterrows()]\n",
    "# Dataframe for coordinates\n",
    "locations = vacation_df[[\"Lat\", \"Lng\"]]\n",
    "\n",
    "# Gmap marker layer\n",
    "marker_layer = gmaps.marker_layer(locations, info_box_content=hotel_info)\n",
    "fig = gmaps.figure()\n",
    "fig.add_layer(marker_layer)\n",
    "fig"
   ]
  },
  {
   "cell_type": "code",
   "execution_count": null,
   "metadata": {},
   "outputs": [],
   "source": [
    "# Select destinationsfrom above map\n",
    "vacation_start = vacation_df.loc[vacation_df[\"City\"] == \"Port Hueneme\"]\n",
    "vacation_end = vacation_df.loc[vacation_df[\"City\"] == \"Port Hueneme\"]\n",
    "vacation_stop1 = vacation_df.loc[vacation_df[\"City\"] == \"Dickinson\"]\n",
    "vacation_stop2 = vacation_df.loc[vacation_df[\"City\"] == \"Mayo\"] \n",
    "vacation_stop3 = vacation_df.loc[vacation_df[\"City\"] == \"Monticello\"] \n",
    "\n",
    "# Cooridinates for destinations\n",
    "start = vacation_start[\"Lat\"].to_numpy()[0], vacation_start[\"Lng\"].to_numpy()[0]\n",
    "end = vacation_end[\"Lat\"].to_numpy()[0], vacation_end[\"Lng\"].to_numpy()[0]\n",
    "stop1 = vacation_stop1[\"Lat\"].to_numpy()[0], vacation_stop1[\"Lng\"].to_numpy()[0]\n",
    "stop2 = vacation_stop2[\"Lat\"].to_numpy()[0], vacation_stop2[\"Lng\"].to_numpy()[0]\n",
    "stop3 = vacation_stop3[\"Lat\"].to_numpy()[0], vacation_stop3[\"Lng\"].to_numpy()[0]\n",
    "\n",
    "# Destination dataframe for the marker layer\n",
    "itinerary_df = pd.concat([vacation_start, vacation_stop1, vacation_stop2, vacation_stop3],ignore_index=True)\n",
    "itinerary_df"
   ]
  },
  {
   "cell_type": "code",
   "execution_count": null,
   "metadata": {},
   "outputs": [],
   "source": [
    "# Description template\n",
    "info_box_template = \"\"\"\n",
    "<dl>\n",
    "<dt>Hotel Name</dt><dd>{Hotel Name}</dd>\n",
    "<dt>City</dt><dd>{City}</dd>\n",
    "<dt>Country</dt><dd>{Country}</dd>\n",
    "<dt>Current Weather</dt><dd>{Current Description} and {Max Temp} °F</dd>\n",
    "</dl>\n",
    "\"\"\"\n",
    "hotel_info = [info_box_template.format(**row) for index, row in itinerary_df.iterrows()]\n",
    "locations = itinerary_df[[\"Lat\", \"Lng\"]]\n",
    "fig = gmaps.figure()\n",
    "\n",
    "marker_layer = gmaps.marker_layer(locations, info_box_content=hotel_info)\n",
    "\n",
    "vacation_itinerary = gmaps.directions_layer(\n",
    "        start, end, waypoints=[stop1, stop2, stop3],\n",
    "        travel_mode='DRIVING', show_markers=False)\n",
    "\n",
    "fig.add_layer(vacation_itinerary)\n",
    "fig.add_layer(marker_layer)\n",
    "\n",
    "fig"
   ]
  }
 ],
 "metadata": {
  "interpreter": {
   "hash": "62249ab88f004581040b552093f6a37d297968d50509d16f925c90e58a716667"
  },
  "kernelspec": {
   "display_name": "Python 3",
   "language": "python",
   "name": "python3"
  },
  "language_info": {
   "codemirror_mode": {
    "name": "ipython",
    "version": 3
   },
   "file_extension": ".py",
   "mimetype": "text/x-python",
   "name": "python",
   "nbconvert_exporter": "python",
   "pygments_lexer": "ipython3",
   "version": "3.8.5"
  },
  "latex_envs": {
   "LaTeX_envs_menu_present": true,
   "autoclose": false,
   "autocomplete": true,
   "bibliofile": "biblio.bib",
   "cite_by": "apalike",
   "current_citInitial": 1,
   "eqLabelWithNumbers": true,
   "eqNumInitial": 1,
   "hotkeys": {
    "equation": "Ctrl-E",
    "itemize": "Ctrl-I"
   },
   "labels_anchors": false,
   "latex_user_defs": false,
   "report_style_numbering": false,
   "user_envs_cfg": false
  }
 },
 "nbformat": 4,
 "nbformat_minor": 2
}
