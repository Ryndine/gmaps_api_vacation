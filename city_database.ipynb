{
 "cells": [
  {
   "cell_type": "code",
   "execution_count": 1,
   "metadata": {},
   "outputs": [],
   "source": [
    "from citipy import citipy\n",
    "import numpy as np\n",
    "import pandas as pd\n",
    "import requests\n",
    "import time\n",
    "from datetime import datetime\n",
    "from config import weather_api_key"
   ]
  },
  {
   "cell_type": "markdown",
   "metadata": {},
   "source": [
    "### Weather Data."
   ]
  },
  {
   "cell_type": "code",
   "execution_count": 2,
   "metadata": {},
   "outputs": [],
   "source": [
    "# Random latitude and longitude combinations.\n",
    "lats = np.random.uniform(low=-90.000, high=90.000, size=2000)\n",
    "lngs = np.random.uniform(low=-180.000, high=180.000, size=2000)\n",
    "coordinates = list(zip(lats, lngs))"
   ]
  },
  {
   "cell_type": "code",
   "execution_count": 3,
   "metadata": {},
   "outputs": [
    {
     "data": {
      "text/plain": [
       "734"
      ]
     },
     "execution_count": 3,
     "metadata": {},
     "output_type": "execute_result"
    }
   ],
   "source": [
    "# Finding cities near the coordinates\n",
    "cities = []\n",
    "for coordinate in coordinates:\n",
    "    city = citipy.nearest_city(coordinate[0], coordinate[1]).city_name\n",
    "    \n",
    "    if city not in cities:\n",
    "        cities.append(city)\n",
    "# Check results\n",
    "len(cities)"
   ]
  },
  {
   "cell_type": "code",
   "execution_count": 4,
   "metadata": {},
   "outputs": [],
   "source": [
    "# API Url\n",
    "url = \"http://api.openweathermap.org/data/2.5/weather?units=Imperial&APPID=\" + weather_api_key"
   ]
  },
  {
   "cell_type": "markdown",
   "metadata": {},
   "source": [
    "### API call"
   ]
  },
  {
   "cell_type": "code",
   "execution_count": null,
   "metadata": {},
   "outputs": [
    {
     "name": "stdout",
     "output_type": "stream",
     "text": [
      "   Beginning Data Retrieval   \n",
      "------------------------------\n",
      "Processing Record 1 of Set 1 | saskylakh\n",
      "Processing Record 2 of Set 1 | rikitea\n",
      "Processing Record 3 of Set 1 | laguna\n",
      "Processing Record 4 of Set 1 | ushuaia\n",
      "Processing Record 5 of Set 1 | bredasdorp\n",
      "Processing Record 6 of Set 1 | bluff\n",
      "Processing Record 7 of Set 1 | nizhniy tsasuchey\n",
      "Processing Record 8 of Set 1 | tevaitoa\n",
      "Processing Record 9 of Set 1 | souillac\n",
      "Processing Record 10 of Set 1 | saint anthony\n",
      "Processing Record 11 of Set 1 | kununurra\n",
      "Processing Record 12 of Set 1 | busselton\n",
      "Processing Record 13 of Set 1 | airai\n",
      "Processing Record 14 of Set 1 | coracora\n",
      "Processing Record 15 of Set 1 | mar del plata\n",
      "Processing Record 16 of Set 1 | butaritari\n",
      "Processing Record 17 of Set 1 | vaini\n",
      "Processing Record 18 of Set 1 | kolpny\n",
      "Processing Record 19 of Set 1 | hobart\n",
      "Processing Record 20 of Set 1 | albany\n",
      "Processing Record 21 of Set 1 | kandrian\n",
      "Processing Record 22 of Set 1 | makubetsu\n",
      "Processing Record 23 of Set 1 | kutum\n",
      "Processing Record 24 of Set 1 | port elizabeth\n",
      "Processing Record 25 of Set 1 | mataura\n",
      "Processing Record 26 of Set 1 | mahebourg\n",
      "Processing Record 27 of Set 1 | amderma\n",
      "City not found. Skipping...\n",
      "Processing Record 28 of Set 1 | carnarvon\n",
      "Processing Record 29 of Set 1 | bathsheba\n",
      "Processing Record 30 of Set 1 | camana\n",
      "Processing Record 31 of Set 1 | bambous virieux\n",
      "Processing Record 32 of Set 1 | miranorte\n",
      "City not found. Skipping...\n",
      "Processing Record 33 of Set 1 | basco\n",
      "Processing Record 34 of Set 1 | new norfolk\n",
      "Processing Record 35 of Set 1 | sungaipenuh\n",
      "Processing Record 36 of Set 1 | egvekinot\n",
      "Processing Record 37 of Set 1 | muravlenko\n",
      "Processing Record 38 of Set 1 | narsaq\n",
      "Processing Record 39 of Set 1 | hasaki\n",
      "Processing Record 40 of Set 1 | castro\n",
      "Processing Record 41 of Set 1 | yellowknife\n",
      "Processing Record 42 of Set 1 | arraial do cabo\n",
      "Processing Record 43 of Set 1 | east london\n",
      "Processing Record 44 of Set 1 | esna\n",
      "Processing Record 45 of Set 1 | umzimvubu\n",
      "City not found. Skipping...\n",
      "Processing Record 46 of Set 1 | shimoda\n",
      "Processing Record 47 of Set 1 | bethel\n",
      "Processing Record 48 of Set 1 | kiunga\n",
      "Processing Record 49 of Set 1 | nelson bay\n",
      "Processing Record 50 of Set 1 | calabozo\n",
      "Processing Record 1 of Set 2 | kushiro\n",
      "Processing Record 2 of Set 2 | makarov\n",
      "Processing Record 3 of Set 2 | port alfred\n",
      "Processing Record 4 of Set 2 | hermanus\n",
      "Processing Record 5 of Set 2 | itarema\n",
      "Processing Record 6 of Set 2 | bristol\n",
      "Processing Record 7 of Set 2 | attawapiskat\n",
      "City not found. Skipping...\n",
      "Processing Record 8 of Set 2 | cherskiy\n",
      "Processing Record 9 of Set 2 | balykshi\n",
      "Processing Record 10 of Set 2 | gushikawa\n",
      "Processing Record 11 of Set 2 | hilo\n",
      "Processing Record 12 of Set 2 | punta arenas\n",
      "Processing Record 13 of Set 2 | burgeo\n",
      "Processing Record 14 of Set 2 | illoqqortoormiut\n",
      "City not found. Skipping...\n",
      "Processing Record 15 of Set 2 | daru\n",
      "Processing Record 16 of Set 2 | dillon\n",
      "Processing Record 17 of Set 2 | fairbanks\n",
      "Processing Record 18 of Set 2 | touros\n",
      "Processing Record 19 of Set 2 | pevek\n",
      "Processing Record 20 of Set 2 | arkhangelsk\n",
      "Processing Record 21 of Set 2 | puerto escondido\n",
      "Processing Record 22 of Set 2 | barentsburg\n",
      "City not found. Skipping...\n",
      "Processing Record 23 of Set 2 | port hedland\n",
      "Processing Record 24 of Set 2 | weligama\n",
      "Processing Record 25 of Set 2 | buchanan\n",
      "Processing Record 26 of Set 2 | kavieng\n",
      "Processing Record 27 of Set 2 | constitucion\n",
      "Processing Record 28 of Set 2 | djambala\n",
      "Processing Record 29 of Set 2 | tuktoyaktuk\n",
      "Processing Record 30 of Set 2 | luderitz\n",
      "Processing Record 31 of Set 2 | payo\n"
     ]
    }
   ],
   "source": [
    "# List of city data\n",
    "city_data = []\n",
    "\n",
    "# Print to logger\n",
    "print(\"   Beginning Data Retrieval   \")\n",
    "print(\"------------------------------\")\n",
    "\n",
    "# Create counters\n",
    "record_count = 1\n",
    "set_count = 1\n",
    "\n",
    "# Loop through all the cities in our list\n",
    "for i, city in enumerate(cities):\n",
    "        \n",
    "    # Group cities in sets of 50 for logging purposes\n",
    "    if (i % 50 == 0 and i >= 50):\n",
    "        set_count += 1\n",
    "        record_count = 1\n",
    "        time.sleep(60)\n",
    "\n",
    "    # Create endpoint URL with each city\n",
    "    city_url = url + \"&q=\" + city.replace(\" \",\"+\")\n",
    "    \n",
    "    # Log the url, record, and set numbers\n",
    "    print(f\"Processing Record {record_count} of Set {set_count} | {city}\")\n",
    "\n",
    "    # Add 1 to the record count\n",
    "    record_count += 1\n",
    "\n",
    "    # Run an API request for each of the cities\n",
    "    try:\n",
    "        city_weather = requests.get(city_url).json()\n",
    "        # Parse out the max temp, humidity, and cloudiness\n",
    "        city_lat = city_weather[\"coord\"][\"lat\"]\n",
    "        city_lng = city_weather[\"coord\"][\"lon\"]\n",
    "        city_max_temp = city_weather[\"main\"][\"temp_max\"]\n",
    "        city_humidity = city_weather[\"main\"][\"humidity\"]\n",
    "        city_clouds = city_weather[\"clouds\"][\"all\"]\n",
    "        city_wind = city_weather[\"wind\"][\"speed\"]\n",
    "        city_country = city_weather[\"sys\"][\"country\"]\n",
    "        city_weather_description = city_weather[\"weather\"][0][\"description\"]       \n",
    "            \n",
    "            # Append the City information into city_data list\n",
    "        city_data.append({\"City\": city.title(), \n",
    "                          \"Lat\": city_lat, \n",
    "                          \"Lng\": city_lng, \n",
    "                          \"Max Temp\": city_max_temp,\n",
    "                          \"Current Description\": city_weather_description,\n",
    "                          \"Humidity\": city_humidity,\n",
    "                          \"Cloudiness\": city_clouds,\n",
    "                          \"Wind Speed\": city_wind,\n",
    "                          \"Country\": city_country})\n",
    "    # If an error is experienced, skip the city\n",
    "\n",
    "    except:\n",
    "        print(\"City not found. Skipping...\")\n",
    "        pass\n",
    "\n",
    "# Indicate that Data Loading is complete \n",
    "print(\"-----------------------------\")\n",
    "print(\"   Data Retrieval Complete   \")\n",
    "print(\"-----------------------------\")"
   ]
  },
  {
   "cell_type": "code",
   "execution_count": null,
   "metadata": {},
   "outputs": [],
   "source": [
    "# Converting the array of dictionaries to dataframe\n",
    "city_data_df = pd.DataFrame(city_data)"
   ]
  },
  {
   "cell_type": "code",
   "execution_count": 12,
   "metadata": {},
   "outputs": [
    {
     "name": "stdout",
     "output_type": "stream",
     "text": [
      "Index(['City', 'Lat', 'Lng', 'Max Temp', 'Current Description', 'Humidity',\n",
      "       'Cloudiness', 'Wind Speed', 'Country'],\n",
      "      dtype='object')\n",
      "City                    object\n",
      "Country                 object\n",
      "Lat                    float64\n",
      "Lng                    float64\n",
      "Max Temp               float64\n",
      "Humidity                 int64\n",
      "Cloudiness               int64\n",
      "Wind Speed             float64\n",
      "Current Description     object\n",
      "dtype: object\n"
     ]
    }
   ],
   "source": [
    "# Check & clean up columns\n",
    "print(city_data_df.columns)\n",
    "\n",
    "new_column_order = [\"City\", \"Country\", \"Lat\",\n",
    "                    \"Lng\", \"Max Temp\", \"Humidity\", \n",
    "                    \"Cloudiness\", \"Wind Speed\", \n",
    "                    \"Current Description\"] \n",
    "\n",
    "city_data_df = city_data_df[new_column_order]\n",
    "\n",
    "print(city_data_df.dtypes)"
   ]
  },
  {
   "cell_type": "code",
   "execution_count": 13,
   "metadata": {},
   "outputs": [],
   "source": [
    "# Create csv\n",
    "output_data_file = \"Resources/city_database.csv\"\n",
    "city_data_df.to_csv(output_data_file, index_label=\"City_ID\")"
   ]
  }
 ],
 "metadata": {
  "interpreter": {
   "hash": "62249ab88f004581040b552093f6a37d297968d50509d16f925c90e58a716667"
  },
  "kernelspec": {
   "display_name": "Python 3",
   "language": "python",
   "name": "python3"
  },
  "language_info": {
   "codemirror_mode": {
    "name": "ipython",
    "version": 3
   },
   "file_extension": ".py",
   "mimetype": "text/x-python",
   "name": "python",
   "nbconvert_exporter": "python",
   "pygments_lexer": "ipython3",
   "version": "3.8.5"
  }
 },
 "nbformat": 4,
 "nbformat_minor": 2
}
